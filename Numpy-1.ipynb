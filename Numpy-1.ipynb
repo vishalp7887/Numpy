{
 "cells": [
  {
   "cell_type": "code",
   "execution_count": 1,
   "id": "cba34e42",
   "metadata": {},
   "outputs": [],
   "source": [
    "import numpy as np"
   ]
  },
  {
   "cell_type": "code",
   "execution_count": 2,
   "id": "994dc4cf",
   "metadata": {},
   "outputs": [],
   "source": [
    "aryy = np.array([1,2,4,5])"
   ]
  },
  {
   "cell_type": "code",
   "execution_count": 6,
   "id": "94833fca",
   "metadata": {},
   "outputs": [
    {
     "name": "stdout",
     "output_type": "stream",
     "text": [
      "[1 2 4 5]\n",
      "<class 'numpy.ndarray'>\n",
      "1\n"
     ]
    }
   ],
   "source": [
    "print(aryy)\n",
    "print(type(aryy))\n",
    "print(aryy.ndim)"
   ]
  },
  {
   "cell_type": "code",
   "execution_count": 8,
   "id": "eda9f319",
   "metadata": {},
   "outputs": [
    {
     "name": "stdout",
     "output_type": "stream",
     "text": [
      "1.21.5\n"
     ]
    }
   ],
   "source": [
    "print(np.__version__)"
   ]
  },
  {
   "cell_type": "code",
   "execution_count": 10,
   "id": "758512cb",
   "metadata": {},
   "outputs": [],
   "source": [
    "ary1 = np.array([[1,2,4,5],[8,7,6,4]])"
   ]
  },
  {
   "cell_type": "code",
   "execution_count": 12,
   "id": "6f6b6351",
   "metadata": {},
   "outputs": [
    {
     "name": "stdout",
     "output_type": "stream",
     "text": [
      "[[1 2 4 5]\n",
      " [8 7 6 4]]\n",
      "<class 'numpy.ndarray'>\n",
      "2\n"
     ]
    }
   ],
   "source": [
    "print(ary1)\n",
    "print(type(ary1))\n",
    "print(ary1.ndim)"
   ]
  },
  {
   "cell_type": "code",
   "execution_count": 17,
   "id": "f8389319",
   "metadata": {},
   "outputs": [],
   "source": [
    "ary1 = np.array([[1,2,4,5],[8,7,6,4]], ndmin = 3)"
   ]
  },
  {
   "cell_type": "code",
   "execution_count": 19,
   "id": "a8fa30b7",
   "metadata": {},
   "outputs": [
    {
     "name": "stdout",
     "output_type": "stream",
     "text": [
      "[[[1 2 4 5]\n",
      "  [8 7 6 4]]]\n",
      "3\n"
     ]
    }
   ],
   "source": [
    "print(ary1)\n",
    "print(ary1.ndim)"
   ]
  },
  {
   "cell_type": "code",
   "execution_count": 28,
   "id": "a76d4407",
   "metadata": {},
   "outputs": [
    {
     "name": "stdout",
     "output_type": "stream",
     "text": [
      "8\n",
      "(2, 4)\n",
      "4\n",
      "int32\n",
      "[[4 8]\n",
      " [8 2]\n",
      " [9 5]\n",
      " [2 7]]\n"
     ]
    }
   ],
   "source": [
    "ary2 = np.array([[4,8,8,2],[9,5,2,7]])\n",
    "print(ary2.size)\n",
    "print(ary2.shape)\n",
    "print(ary2.itemsize)\n",
    "print(ary2.dtype)\n",
    "print(ary2.reshape(4,2))"
   ]
  },
  {
   "cell_type": "code",
   "execution_count": 32,
   "id": "53cb5613",
   "metadata": {},
   "outputs": [
    {
     "name": "stdout",
     "output_type": "stream",
     "text": [
      "<class 'numpy.ndarray'>\n"
     ]
    }
   ],
   "source": [
    "print(type(ary2))"
   ]
  },
  {
   "cell_type": "code",
   "execution_count": null,
   "id": "d4f4cee6",
   "metadata": {},
   "outputs": [],
   "source": []
  }
 ],
 "metadata": {
  "kernelspec": {
   "display_name": "Python 3 (ipykernel)",
   "language": "python",
   "name": "python3"
  },
  "language_info": {
   "codemirror_mode": {
    "name": "ipython",
    "version": 3
   },
   "file_extension": ".py",
   "mimetype": "text/x-python",
   "name": "python",
   "nbconvert_exporter": "python",
   "pygments_lexer": "ipython3",
   "version": "3.9.13"
  }
 },
 "nbformat": 4,
 "nbformat_minor": 5
}
