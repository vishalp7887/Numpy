{
 "cells": [
  {
   "cell_type": "code",
   "execution_count": 4,
   "id": "2a371df0",
   "metadata": {},
   "outputs": [],
   "source": [
    "import numpy as np"
   ]
  },
  {
   "cell_type": "code",
   "execution_count": 2,
   "id": "f3aa8a15",
   "metadata": {},
   "outputs": [
    {
     "name": "stdout",
     "output_type": "stream",
     "text": [
      "[1 3]\n"
     ]
    }
   ],
   "source": [
    "ar1 = np.array([1,2,3,4])\n",
    "ar2 = [True, False, True, False]\n",
    "print(ar1[ar2])"
   ]
  },
  {
   "cell_type": "code",
   "execution_count": 3,
   "id": "62129554",
   "metadata": {},
   "outputs": [
    {
     "name": "stdout",
     "output_type": "stream",
     "text": [
      "[1 2 3 4]\n",
      "[True, False, True, False]\n"
     ]
    }
   ],
   "source": [
    "print(ar1)\n",
    "print(ar2)"
   ]
  },
  {
   "cell_type": "code",
   "execution_count": 7,
   "id": "af6779b7",
   "metadata": {},
   "outputs": [
    {
     "name": "stdout",
     "output_type": "stream",
     "text": [
      "4\n",
      "5\n"
     ]
    }
   ],
   "source": [
    "ar3 = np.array([1,2,3,4,5])\n",
    "ar4 = []\n",
    "\n",
    "for i in ar3:\n",
    "    if i > 3:\n",
    "        ar4.append(i)\n",
    "        print(i)"
   ]
  },
  {
   "cell_type": "code",
   "execution_count": 13,
   "id": "1f8a1905",
   "metadata": {},
   "outputs": [
    {
     "name": "stdout",
     "output_type": "stream",
     "text": [
      "[2, 4, 6, 8, 10]\n",
      "[1, 3, 5, 7, 9]\n"
     ]
    }
   ],
   "source": [
    "ar5 = np.array([1,2,3,4,5,6,7,8,9,10])\n",
    "ar6 = []\n",
    "ar7 = []\n",
    "\n",
    "for i in ar5:\n",
    "    if i % 2 == 0:\n",
    "        ar6.append(i)\n",
    "    else:\n",
    "        ar7.append(i)\n",
    "        \n",
    "print(ar6)\n",
    "print(ar7)"
   ]
  },
  {
   "cell_type": "code",
   "execution_count": 28,
   "id": "1cefa8ac",
   "metadata": {},
   "outputs": [
    {
     "name": "stdout",
     "output_type": "stream",
     "text": [
      "[2, 4, 6, 8, 10]\n",
      "[1, 3, 5, 7, 9]\n"
     ]
    }
   ],
   "source": [
    "print(ar6)\n",
    "print(ar7)"
   ]
  },
  {
   "cell_type": "code",
   "execution_count": null,
   "id": "fa78e0fa",
   "metadata": {},
   "outputs": [],
   "source": []
  }
 ],
 "metadata": {
  "kernelspec": {
   "display_name": "Python 3 (ipykernel)",
   "language": "python",
   "name": "python3"
  },
  "language_info": {
   "codemirror_mode": {
    "name": "ipython",
    "version": 3
   },
   "file_extension": ".py",
   "mimetype": "text/x-python",
   "name": "python",
   "nbconvert_exporter": "python",
   "pygments_lexer": "ipython3",
   "version": "3.9.13"
  }
 },
 "nbformat": 4,
 "nbformat_minor": 5
}
