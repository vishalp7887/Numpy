{
 "cells": [
  {
   "cell_type": "code",
   "execution_count": 1,
   "id": "b47afdf0",
   "metadata": {},
   "outputs": [],
   "source": [
    "# join"
   ]
  },
  {
   "cell_type": "code",
   "execution_count": 3,
   "id": "7cd9d454",
   "metadata": {},
   "outputs": [],
   "source": [
    "import numpy as np"
   ]
  },
  {
   "cell_type": "code",
   "execution_count": 4,
   "id": "53a85175",
   "metadata": {},
   "outputs": [],
   "source": [
    "ar_1 = np.array([1,2,3,4])\n",
    "ar_2 = np.array([5,6,7,8,])"
   ]
  },
  {
   "cell_type": "code",
   "execution_count": 9,
   "id": "b681514e",
   "metadata": {},
   "outputs": [],
   "source": [
    "ar_3 = np.concatenate((ar_1, ar_2))"
   ]
  },
  {
   "cell_type": "code",
   "execution_count": 10,
   "id": "93946d34",
   "metadata": {},
   "outputs": [
    {
     "name": "stdout",
     "output_type": "stream",
     "text": [
      "[1 2 3 4 5 6 7 8]\n"
     ]
    }
   ],
   "source": [
    "print(ar_3)"
   ]
  },
  {
   "cell_type": "code",
   "execution_count": 12,
   "id": "2c30b8cc",
   "metadata": {},
   "outputs": [
    {
     "name": "stdout",
     "output_type": "stream",
     "text": [
      "[1 2 3 4]\n",
      "[5 6 7 8]\n"
     ]
    }
   ],
   "source": [
    "print(ar_1)\n",
    "print(ar_2)"
   ]
  },
  {
   "cell_type": "code",
   "execution_count": 13,
   "id": "5dd2ab1c",
   "metadata": {},
   "outputs": [
    {
     "name": "stdout",
     "output_type": "stream",
     "text": [
      "[1 2 3 4 5 6 7 8]\n"
     ]
    }
   ],
   "source": [
    "print(np.concatenate((ar_1, ar_2)))"
   ]
  },
  {
   "cell_type": "code",
   "execution_count": 16,
   "id": "a9d6ad92",
   "metadata": {},
   "outputs": [
    {
     "name": "stdout",
     "output_type": "stream",
     "text": [
      "[ 6  8 10 12]\n"
     ]
    }
   ],
   "source": [
    "print(ar_1 + ar_2)"
   ]
  },
  {
   "cell_type": "code",
   "execution_count": 14,
   "id": "62e9c778",
   "metadata": {},
   "outputs": [],
   "source": [
    "ar_4 = np.array([[1, 2],[3, 4]])\n",
    "ar_5 = np.array([[5, 6],[7, 8]])"
   ]
  },
  {
   "cell_type": "code",
   "execution_count": 15,
   "id": "92daeca1",
   "metadata": {},
   "outputs": [
    {
     "name": "stdout",
     "output_type": "stream",
     "text": [
      "[[1 2]\n",
      " [3 4]] [[5 6]\n",
      " [7 8]]\n"
     ]
    }
   ],
   "source": [
    "print(ar_4, ar_5)"
   ]
  },
  {
   "cell_type": "code",
   "execution_count": 18,
   "id": "12a6e63c",
   "metadata": {},
   "outputs": [
    {
     "name": "stdout",
     "output_type": "stream",
     "text": [
      "[[1 2]\n",
      " [3 4]\n",
      " [5 6]\n",
      " [7 8]]\n"
     ]
    }
   ],
   "source": [
    "ar_6 = np.concatenate((ar_4, ar_5))\n",
    "print(ar_6)"
   ]
  },
  {
   "cell_type": "code",
   "execution_count": 19,
   "id": "a13d16cb",
   "metadata": {},
   "outputs": [
    {
     "name": "stdout",
     "output_type": "stream",
     "text": [
      "[[1 2 5 6]\n",
      " [3 4 7 8]]\n"
     ]
    }
   ],
   "source": [
    "ar_7 = np.concatenate((ar_4, ar_5), axis = 1)\n",
    "print(ar_7)"
   ]
  },
  {
   "cell_type": "code",
   "execution_count": 23,
   "id": "94ad9a11",
   "metadata": {},
   "outputs": [
    {
     "name": "stdout",
     "output_type": "stream",
     "text": [
      "[[[1 2]\n",
      "  [3 4]]\n",
      "\n",
      " [[5 6]\n",
      "  [7 8]]]\n"
     ]
    }
   ],
   "source": [
    "ar_8 = np.stack((ar_4, ar_5))\n",
    "print(ar_8)"
   ]
  },
  {
   "cell_type": "code",
   "execution_count": 24,
   "id": "3aa67111",
   "metadata": {},
   "outputs": [
    {
     "name": "stdout",
     "output_type": "stream",
     "text": [
      "[[1 2 5 6]\n",
      " [3 4 7 8]]\n"
     ]
    }
   ],
   "source": [
    "ar_9 = np.hstack((ar_4, ar_5))\n",
    "print(ar_9)"
   ]
  },
  {
   "cell_type": "code",
   "execution_count": 25,
   "id": "1c2d7639",
   "metadata": {},
   "outputs": [
    {
     "name": "stdout",
     "output_type": "stream",
     "text": [
      "[[1 2]\n",
      " [3 4]\n",
      " [5 6]\n",
      " [7 8]]\n"
     ]
    }
   ],
   "source": [
    "ar_10 = np.vstack((ar_4, ar_5))\n",
    "print(ar_10)"
   ]
  },
  {
   "cell_type": "code",
   "execution_count": 26,
   "id": "b8e3a0b0",
   "metadata": {},
   "outputs": [
    {
     "name": "stdout",
     "output_type": "stream",
     "text": [
      "[[[1 5]\n",
      "  [2 6]]\n",
      "\n",
      " [[3 7]\n",
      "  [4 8]]]\n"
     ]
    }
   ],
   "source": [
    "ar_11 = np.dstack((ar_4, ar_5))\n",
    "print(ar_11)"
   ]
  },
  {
   "cell_type": "code",
   "execution_count": 27,
   "id": "9206711c",
   "metadata": {},
   "outputs": [],
   "source": [
    "# split"
   ]
  },
  {
   "cell_type": "code",
   "execution_count": 28,
   "id": "d38e48de",
   "metadata": {},
   "outputs": [],
   "source": [
    "ar1 = np.array([1,2,3,4,5])"
   ]
  },
  {
   "cell_type": "code",
   "execution_count": 29,
   "id": "1bc5b871",
   "metadata": {},
   "outputs": [
    {
     "name": "stdout",
     "output_type": "stream",
     "text": [
      "[1 2 3 4 5]\n"
     ]
    }
   ],
   "source": [
    "print(ar1)"
   ]
  },
  {
   "cell_type": "code",
   "execution_count": 30,
   "id": "55aa7028",
   "metadata": {},
   "outputs": [
    {
     "name": "stdout",
     "output_type": "stream",
     "text": [
      "[array([1, 2, 3]), array([4, 5])]\n"
     ]
    }
   ],
   "source": [
    "print(np.array_split(ar1, 2))"
   ]
  },
  {
   "cell_type": "code",
   "execution_count": 31,
   "id": "dc0e54a1",
   "metadata": {},
   "outputs": [
    {
     "name": "stdout",
     "output_type": "stream",
     "text": [
      "[array([1, 2]), array([3, 4]), array([5])]\n"
     ]
    }
   ],
   "source": [
    "print(np.array_split(ar1, 3))"
   ]
  },
  {
   "cell_type": "code",
   "execution_count": 33,
   "id": "16b0c3af",
   "metadata": {},
   "outputs": [
    {
     "name": "stdout",
     "output_type": "stream",
     "text": [
      "[1 2]\n",
      "[3 4]\n",
      "[5]\n"
     ]
    }
   ],
   "source": [
    "ar3 = np.array_split(ar1, 3)\n",
    "\n",
    "print(ar3[0])\n",
    "print(ar3[1])\n",
    "print(ar3[2])"
   ]
  },
  {
   "cell_type": "code",
   "execution_count": 34,
   "id": "701bc69e",
   "metadata": {},
   "outputs": [
    {
     "name": "stdout",
     "output_type": "stream",
     "text": [
      "[ 7 10]\n"
     ]
    }
   ],
   "source": [
    "print(ar3[0] + ar3[1] + ar3[1])"
   ]
  },
  {
   "cell_type": "code",
   "execution_count": 35,
   "id": "69004499",
   "metadata": {},
   "outputs": [
    {
     "name": "stdout",
     "output_type": "stream",
     "text": [
      "[[[[1 2]\n",
      "   [3 4]\n",
      "   [5 6]\n",
      "   [7 8]]]]\n"
     ]
    }
   ],
   "source": [
    "ar4 = np.array([[[[1,2],[3,4],[5,6],[7,8]]]])\n",
    "print(ar4)"
   ]
  },
  {
   "cell_type": "code",
   "execution_count": 39,
   "id": "255325ae",
   "metadata": {},
   "outputs": [
    {
     "name": "stdout",
     "output_type": "stream",
     "text": [
      "[array([[[[1, 2],\n",
      "         [3, 4],\n",
      "         [5, 6],\n",
      "         [7, 8]]]]), array([], shape=(0, 1, 4, 2), dtype=int32), array([], shape=(0, 1, 4, 2), dtype=int32)]\n"
     ]
    }
   ],
   "source": [
    "ar5 = np.array_split(ar4, 3)\n",
    "print(ar5)"
   ]
  },
  {
   "cell_type": "code",
   "execution_count": 43,
   "id": "afa0e6e9",
   "metadata": {},
   "outputs": [
    {
     "name": "stdout",
     "output_type": "stream",
     "text": [
      "[[1 2]\n",
      " [3 4]\n",
      " [5 6]\n",
      " [7 8]]\n"
     ]
    }
   ],
   "source": [
    "ar6 = np.array([[1,2],[3,4],[5,6],[7,8]])\n",
    "print(ar6)"
   ]
  },
  {
   "cell_type": "code",
   "execution_count": 47,
   "id": "d73c49b0",
   "metadata": {},
   "outputs": [
    {
     "name": "stdout",
     "output_type": "stream",
     "text": [
      "[array([[1, 2],\n",
      "       [3, 4]]), array([[5, 6]]), array([[7, 8]])]\n"
     ]
    }
   ],
   "source": [
    "ar7 = np.array_split(ar6, 3)\n",
    "print(ar7)"
   ]
  },
  {
   "cell_type": "code",
   "execution_count": 48,
   "id": "a1ed2606",
   "metadata": {},
   "outputs": [
    {
     "name": "stdout",
     "output_type": "stream",
     "text": [
      "[[1 2]\n",
      " [3 4]\n",
      " [5 6]\n",
      " [7 8]]\n"
     ]
    }
   ],
   "source": [
    "print(ar6)"
   ]
  },
  {
   "cell_type": "code",
   "execution_count": 49,
   "id": "9b3def51",
   "metadata": {},
   "outputs": [
    {
     "name": "stdout",
     "output_type": "stream",
     "text": [
      "[array([[1],\n",
      "       [3],\n",
      "       [5],\n",
      "       [7]]), array([[2],\n",
      "       [4],\n",
      "       [6],\n",
      "       [8]]), array([], shape=(4, 0), dtype=int32)]\n"
     ]
    }
   ],
   "source": [
    "print(np.array_split(ar6, 3, axis = 1))"
   ]
  },
  {
   "cell_type": "code",
   "execution_count": 54,
   "id": "6ff0f71c",
   "metadata": {},
   "outputs": [
    {
     "name": "stdout",
     "output_type": "stream",
     "text": [
      "[[1 2]\n",
      " [3 4]\n",
      " [5 6]\n",
      " [7 8]]\n"
     ]
    }
   ],
   "source": [
    "print(ar6)"
   ]
  },
  {
   "cell_type": "code",
   "execution_count": null,
   "id": "adad2102",
   "metadata": {},
   "outputs": [],
   "source": []
  }
 ],
 "metadata": {
  "kernelspec": {
   "display_name": "Python 3 (ipykernel)",
   "language": "python",
   "name": "python3"
  },
  "language_info": {
   "codemirror_mode": {
    "name": "ipython",
    "version": 3
   },
   "file_extension": ".py",
   "mimetype": "text/x-python",
   "name": "python",
   "nbconvert_exporter": "python",
   "pygments_lexer": "ipython3",
   "version": "3.9.13"
  }
 },
 "nbformat": 4,
 "nbformat_minor": 5
}
