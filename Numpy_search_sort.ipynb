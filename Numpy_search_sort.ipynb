{
 "cells": [
  {
   "cell_type": "code",
   "execution_count": 19,
   "id": "0790eeab",
   "metadata": {},
   "outputs": [],
   "source": [
    "# search"
   ]
  },
  {
   "cell_type": "code",
   "execution_count": 1,
   "id": "85cce940",
   "metadata": {},
   "outputs": [],
   "source": [
    "import numpy as np"
   ]
  },
  {
   "cell_type": "code",
   "execution_count": 2,
   "id": "9406798b",
   "metadata": {},
   "outputs": [
    {
     "name": "stdout",
     "output_type": "stream",
     "text": [
      "(array([3], dtype=int64),)\n"
     ]
    }
   ],
   "source": [
    "ar1 = np.array([1,2,3,4,5])\n",
    "print(np.where(ar1 == 4))"
   ]
  },
  {
   "cell_type": "code",
   "execution_count": 8,
   "id": "14b94b08",
   "metadata": {},
   "outputs": [
    {
     "name": "stdout",
     "output_type": "stream",
     "text": [
      "(array([0, 2, 4, 5], dtype=int64),)\n"
     ]
    }
   ],
   "source": [
    "ar1 = np.array([1,2,3,4,5,7])\n",
    "print(np.where(ar1%2 == 1))"
   ]
  },
  {
   "cell_type": "code",
   "execution_count": 9,
   "id": "d2da57aa",
   "metadata": {},
   "outputs": [],
   "source": [
    "ar2 = np.array([1,9,3,4,6])"
   ]
  },
  {
   "cell_type": "code",
   "execution_count": 13,
   "id": "89b5389f",
   "metadata": {},
   "outputs": [
    {
     "name": "stdout",
     "output_type": "stream",
     "text": [
      "1\n"
     ]
    }
   ],
   "source": [
    "print(np.searchsorted(ar2, 3))"
   ]
  },
  {
   "cell_type": "code",
   "execution_count": 14,
   "id": "69ef57a1",
   "metadata": {},
   "outputs": [
    {
     "name": "stdout",
     "output_type": "stream",
     "text": [
      "3\n"
     ]
    }
   ],
   "source": [
    "print(np.searchsorted(ar2, 3, side = 'right'))"
   ]
  },
  {
   "cell_type": "code",
   "execution_count": 15,
   "id": "70bf10a9",
   "metadata": {},
   "outputs": [
    {
     "name": "stdout",
     "output_type": "stream",
     "text": [
      "1\n"
     ]
    }
   ],
   "source": [
    "print(np.searchsorted(ar2, 3, side = 'left'))"
   ]
  },
  {
   "cell_type": "code",
   "execution_count": 17,
   "id": "1518652a",
   "metadata": {},
   "outputs": [
    {
     "name": "stdout",
     "output_type": "stream",
     "text": [
      "[0 3 1]\n"
     ]
    }
   ],
   "source": [
    "print(np.searchsorted(ar2, [1,4,2]))"
   ]
  },
  {
   "cell_type": "code",
   "execution_count": 18,
   "id": "3163c1ed",
   "metadata": {},
   "outputs": [],
   "source": [
    "# sort"
   ]
  },
  {
   "cell_type": "code",
   "execution_count": 23,
   "id": "f78d1599",
   "metadata": {},
   "outputs": [],
   "source": [
    "arr1 = np.array([1,6,2,3,7,6,5])"
   ]
  },
  {
   "cell_type": "code",
   "execution_count": 24,
   "id": "a58fa352",
   "metadata": {},
   "outputs": [
    {
     "name": "stdout",
     "output_type": "stream",
     "text": [
      "[1 2 3 5 6 6 7]\n"
     ]
    }
   ],
   "source": [
    "print(np.sort(arr1))"
   ]
  },
  {
   "cell_type": "code",
   "execution_count": 27,
   "id": "725446de",
   "metadata": {},
   "outputs": [],
   "source": [
    "arr2 = np.array(['cde', 'bcd', 'abc'])"
   ]
  },
  {
   "cell_type": "code",
   "execution_count": 28,
   "id": "8a866af8",
   "metadata": {},
   "outputs": [
    {
     "name": "stdout",
     "output_type": "stream",
     "text": [
      "['abc' 'bcd' 'cde']\n"
     ]
    }
   ],
   "source": [
    "print(np.sort(arr2))"
   ]
  },
  {
   "cell_type": "code",
   "execution_count": 29,
   "id": "f1eac315",
   "metadata": {},
   "outputs": [],
   "source": [
    "arr2 = np.array(['cde', 10, 'bcd', 'abc'])"
   ]
  },
  {
   "cell_type": "code",
   "execution_count": 30,
   "id": "c7b371ba",
   "metadata": {},
   "outputs": [
    {
     "name": "stdout",
     "output_type": "stream",
     "text": [
      "['10' 'abc' 'bcd' 'cde']\n"
     ]
    }
   ],
   "source": [
    "print(np.sort(arr2))"
   ]
  },
  {
   "cell_type": "code",
   "execution_count": 31,
   "id": "bf83b620",
   "metadata": {},
   "outputs": [],
   "source": [
    "arr3 = np.array([[2,9,4,8],[6,3,6,2]])"
   ]
  },
  {
   "cell_type": "code",
   "execution_count": 32,
   "id": "1a9b1e12",
   "metadata": {},
   "outputs": [
    {
     "name": "stdout",
     "output_type": "stream",
     "text": [
      "[[2 4 8 9]\n",
      " [2 3 6 6]]\n"
     ]
    }
   ],
   "source": [
    "print(np.sort(arr3))"
   ]
  },
  {
   "cell_type": "code",
   "execution_count": 33,
   "id": "430ec7af",
   "metadata": {},
   "outputs": [],
   "source": [
    "arr4 = np.array([True, False, True, False])"
   ]
  },
  {
   "cell_type": "code",
   "execution_count": 34,
   "id": "f5f56c57",
   "metadata": {},
   "outputs": [
    {
     "name": "stdout",
     "output_type": "stream",
     "text": [
      "[False False  True  True]\n"
     ]
    }
   ],
   "source": [
    "print(np.sort(arr4))"
   ]
  },
  {
   "cell_type": "code",
   "execution_count": null,
   "id": "ea41a2eb",
   "metadata": {},
   "outputs": [],
   "source": []
  }
 ],
 "metadata": {
  "kernelspec": {
   "display_name": "Python 3 (ipykernel)",
   "language": "python",
   "name": "python3"
  },
  "language_info": {
   "codemirror_mode": {
    "name": "ipython",
    "version": 3
   },
   "file_extension": ".py",
   "mimetype": "text/x-python",
   "name": "python",
   "nbconvert_exporter": "python",
   "pygments_lexer": "ipython3",
   "version": "3.9.13"
  }
 },
 "nbformat": 4,
 "nbformat_minor": 5
}
